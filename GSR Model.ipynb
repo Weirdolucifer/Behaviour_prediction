{
 "cells": [
  {
   "cell_type": "code",
   "execution_count": 1,
   "metadata": {},
   "outputs": [
    {
     "name": "stderr",
     "output_type": "stream",
     "text": [
      "Using TensorFlow backend.\n"
     ]
    }
   ],
   "source": [
    "from keras.models import Sequential\n",
    "from keras.layers import Dense\n",
    "from keras.utils import to_categorical\n",
    "import numpy\n",
    "# fix random seed for reproducibility\n",
    "numpy.random.seed(7)"
   ]
  },
  {
   "cell_type": "code",
   "execution_count": 2,
   "metadata": {},
   "outputs": [],
   "source": [
    "# load pima indians dataset\n",
    "dataset = numpy.loadtxt(\"final.csv\", delimiter=\",\",skiprows=1)\n",
    "# split into input (X) and output (Y) variables\n",
    "X = dataset[0:,0:14]\n",
    "Y = to_categorical(dataset[0:,14], num_classes=4)"
   ]
  },
  {
   "cell_type": "code",
   "execution_count": 3,
   "metadata": {},
   "outputs": [],
   "source": [
    "# create model\n",
    "model = Sequential()\n",
    "model.add(Dense(14, input_dim=14, activation='relu'))\n",
    "model.add(Dense(12, activation='relu'))\n",
    "model.add(Dense(12, activation='relu'))\n",
    "model.add(Dense(10, activation='relu'))\n",
    "model.add(Dense(8, activation='relu'))\n",
    "model.add(Dense(8, activation='relu'))\n",
    "model.add(Dense(4, activation='sigmoid'))"
   ]
  },
  {
   "cell_type": "code",
   "execution_count": 4,
   "metadata": {},
   "outputs": [],
   "source": [
    "model.compile(loss='categorical_crossentropy', optimizer='adam', metrics=['accuracy'])"
   ]
  },
  {
   "cell_type": "code",
   "execution_count": 5,
   "metadata": {},
   "outputs": [
    {
     "name": "stdout",
     "output_type": "stream",
     "text": [
      "Epoch 1/60\n",
      "170/170 [==============================] - 0s 3ms/step - loss: 1.3820 - acc: 0.3529\n",
      "Epoch 2/60\n",
      "170/170 [==============================] - 0s 303us/step - loss: 1.3677 - acc: 0.3353\n",
      "Epoch 3/60\n",
      "170/170 [==============================] - 0s 280us/step - loss: 1.3551 - acc: 0.2941\n",
      "Epoch 4/60\n",
      "170/170 [==============================] - 0s 299us/step - loss: 1.3339 - acc: 0.2824\n",
      "Epoch 5/60\n",
      "170/170 [==============================] - 0s 277us/step - loss: 1.2882 - acc: 0.3294\n",
      "Epoch 6/60\n",
      "170/170 [==============================] - 0s 340us/step - loss: 1.2098 - acc: 0.3647\n",
      "Epoch 7/60\n",
      "170/170 [==============================] - 0s 285us/step - loss: 1.1271 - acc: 0.4588\n",
      "Epoch 8/60\n",
      "170/170 [==============================] - 0s 283us/step - loss: 1.0408 - acc: 0.4941\n",
      "Epoch 9/60\n",
      "170/170 [==============================] - 0s 273us/step - loss: 0.9517 - acc: 0.5059\n",
      "Epoch 10/60\n",
      "170/170 [==============================] - 0s 272us/step - loss: 0.8585 - acc: 0.5059\n",
      "Epoch 11/60\n",
      "170/170 [==============================] - 0s 296us/step - loss: 0.7636 - acc: 0.4882\n",
      "Epoch 12/60\n",
      "170/170 [==============================] - 0s 265us/step - loss: 0.7023 - acc: 0.5118\n",
      "Epoch 13/60\n",
      "170/170 [==============================] - 0s 289us/step - loss: 0.6368 - acc: 0.5529\n",
      "Epoch 14/60\n",
      "170/170 [==============================] - 0s 275us/step - loss: 0.5996 - acc: 0.6471\n",
      "Epoch 15/60\n",
      "170/170 [==============================] - 0s 277us/step - loss: 0.5699 - acc: 0.6529\n",
      "Epoch 16/60\n",
      "170/170 [==============================] - 0s 290us/step - loss: 0.4987 - acc: 0.7000\n",
      "Epoch 17/60\n",
      "170/170 [==============================] - 0s 257us/step - loss: 0.4502 - acc: 0.7235\n",
      "Epoch 18/60\n",
      "170/170 [==============================] - 0s 242us/step - loss: 0.3802 - acc: 0.7294\n",
      "Epoch 19/60\n",
      "170/170 [==============================] - 0s 302us/step - loss: 0.3283 - acc: 0.7294\n",
      "Epoch 20/60\n",
      "170/170 [==============================] - 0s 257us/step - loss: 0.3137 - acc: 0.7471\n",
      "Epoch 21/60\n",
      "170/170 [==============================] - 0s 269us/step - loss: 0.3100 - acc: 0.7353\n",
      "Epoch 22/60\n",
      "170/170 [==============================] - 0s 250us/step - loss: 0.2885 - acc: 0.7412\n",
      "Epoch 23/60\n",
      "170/170 [==============================] - 0s 299us/step - loss: 0.2793 - acc: 0.7471\n",
      "Epoch 24/60\n",
      "170/170 [==============================] - 0s 237us/step - loss: 0.2690 - acc: 0.7471\n",
      "Epoch 25/60\n",
      "170/170 [==============================] - 0s 260us/step - loss: 0.2624 - acc: 0.7471\n",
      "Epoch 26/60\n",
      "170/170 [==============================] - 0s 272us/step - loss: 0.2587 - acc: 0.7471\n",
      "Epoch 27/60\n",
      "170/170 [==============================] - 0s 266us/step - loss: 0.2536 - acc: 0.7471\n",
      "Epoch 28/60\n",
      "170/170 [==============================] - 0s 279us/step - loss: 0.2516 - acc: 0.7471\n",
      "Epoch 29/60\n",
      "170/170 [==============================] - 0s 276us/step - loss: 0.2509 - acc: 0.7471\n",
      "Epoch 30/60\n",
      "170/170 [==============================] - 0s 332us/step - loss: 0.2454 - acc: 0.7471\n",
      "Epoch 31/60\n",
      "170/170 [==============================] - 0s 271us/step - loss: 0.2443 - acc: 0.7471\n",
      "Epoch 32/60\n",
      "170/170 [==============================] - 0s 279us/step - loss: 0.2427 - acc: 0.7471\n",
      "Epoch 33/60\n",
      "170/170 [==============================] - 0s 325us/step - loss: 0.2374 - acc: 0.7471\n",
      "Epoch 34/60\n",
      "170/170 [==============================] - 0s 265us/step - loss: 0.2368 - acc: 0.7471\n",
      "Epoch 35/60\n",
      "170/170 [==============================] - 0s 265us/step - loss: 0.2356 - acc: 0.7471\n",
      "Epoch 36/60\n",
      "170/170 [==============================] - 0s 270us/step - loss: 0.2348 - acc: 0.7471\n",
      "Epoch 37/60\n",
      "170/170 [==============================] - 0s 313us/step - loss: 0.2491 - acc: 0.7471\n",
      "Epoch 38/60\n",
      "170/170 [==============================] - 0s 299us/step - loss: 0.2445 - acc: 0.7412\n",
      "Epoch 39/60\n",
      "170/170 [==============================] - 0s 249us/step - loss: 0.2316 - acc: 0.7471\n",
      "Epoch 40/60\n",
      "170/170 [==============================] - 0s 258us/step - loss: 0.2299 - acc: 0.7471\n",
      "Epoch 41/60\n",
      "170/170 [==============================] - 0s 294us/step - loss: 0.2260 - acc: 0.7471\n",
      "Epoch 42/60\n",
      "170/170 [==============================] - 0s 273us/step - loss: 0.2238 - acc: 0.7471\n",
      "Epoch 43/60\n",
      "170/170 [==============================] - 0s 273us/step - loss: 0.2242 - acc: 0.7471\n",
      "Epoch 44/60\n",
      "170/170 [==============================] - 0s 351us/step - loss: 0.2216 - acc: 0.7471\n",
      "Epoch 45/60\n",
      "170/170 [==============================] - 0s 297us/step - loss: 0.2191 - acc: 0.7471\n",
      "Epoch 46/60\n",
      "170/170 [==============================] - 0s 283us/step - loss: 0.2185 - acc: 0.7471\n",
      "Epoch 47/60\n",
      "170/170 [==============================] - 0s 300us/step - loss: 0.2177 - acc: 0.7471\n",
      "Epoch 48/60\n",
      "170/170 [==============================] - 0s 267us/step - loss: 0.2161 - acc: 0.7471\n",
      "Epoch 49/60\n",
      "170/170 [==============================] - 0s 289us/step - loss: 0.2152 - acc: 0.7471\n",
      "Epoch 50/60\n",
      "170/170 [==============================] - 0s 280us/step - loss: 0.2130 - acc: 0.7471\n",
      "Epoch 51/60\n",
      "170/170 [==============================] - 0s 265us/step - loss: 0.2120 - acc: 0.7471\n",
      "Epoch 52/60\n",
      "170/170 [==============================] - 0s 294us/step - loss: 0.2108 - acc: 0.7941\n",
      "Epoch 53/60\n",
      "170/170 [==============================] - 0s 301us/step - loss: 0.2096 - acc: 0.8471\n",
      "Epoch 54/60\n",
      "170/170 [==============================] - 0s 276us/step - loss: 0.2080 - acc: 0.8941\n",
      "Epoch 55/60\n",
      "170/170 [==============================] - 0s 284us/step - loss: 0.2066 - acc: 0.9059\n",
      "Epoch 56/60\n",
      "170/170 [==============================] - 0s 339us/step - loss: 0.2064 - acc: 0.9412\n",
      "Epoch 57/60\n",
      "170/170 [==============================] - 0s 285us/step - loss: 0.2037 - acc: 0.9529\n",
      "Epoch 58/60\n",
      "170/170 [==============================] - 0s 246us/step - loss: 0.2030 - acc: 0.9647\n",
      "Epoch 59/60\n",
      "170/170 [==============================] - 0s 304us/step - loss: 0.2006 - acc: 0.9765\n",
      "Epoch 60/60\n",
      "170/170 [==============================] - 0s 305us/step - loss: 0.1944 - acc: 0.9882\n"
     ]
    }
   ],
   "source": [
    "history=model.fit(X, Y, epochs=60, batch_size=5, verbose=1)"
   ]
  },
  {
   "cell_type": "code",
   "execution_count": 10,
   "metadata": {},
   "outputs": [
    {
     "name": "stdout",
     "output_type": "stream",
     "text": [
      "Prediction for user 1 is : 3\n",
      "Prediction for user 2 is : 1\n",
      "Prediction for user 3 is : 1\n",
      "Prediction for user 4 is : 2\n",
      "Prediction for user 5 is : 2\n",
      "Prediction for user 6 is : 1\n",
      "Prediction for user 7 is : 1\n",
      "Prediction for user 8 is : 1\n",
      "Prediction for user 9 is : 1\n",
      "Prediction for user 10 is : 0\n",
      "Prediction for user 11 is : 2\n",
      "Prediction for user 12 is : 0\n",
      "Prediction for user 13 is : 3\n",
      "Prediction for user 14 is : 3\n",
      "Prediction for user 15 is : 0\n",
      "Prediction for user 16 is : 1\n",
      "Prediction for user 17 is : 2\n",
      "Prediction for user 18 is : 3\n",
      "Prediction for user 19 is : 0\n",
      "Prediction for user 20 is : 0\n",
      "Prediction for user 21 is : 3\n",
      "Prediction for user 22 is : 1\n",
      "Prediction for user 23 is : 3\n",
      "Prediction for user 24 is : 3\n",
      "Prediction for user 25 is : 3\n",
      "Prediction for user 26 is : 0\n",
      "Prediction for user 27 is : 3\n",
      "Prediction for user 28 is : 2\n",
      "Prediction for user 29 is : 0\n",
      "Prediction for user 30 is : 2\n",
      "Prediction for user 31 is : 3\n",
      "Prediction for user 32 is : 0\n",
      "Prediction for user 33 is : 3\n",
      "Prediction for user 34 is : 3\n"
     ]
    }
   ],
   "source": [
    "\n",
    "k = 0\n",
    "ans = [0, 0, 0, 0]\n",
    "h = 1\n",
    "while k < 169:\n",
    "    A = []\n",
    "    Xnew1 = numpy.array([X[k]])\n",
    "    Xnew2 = numpy.array([X[k+1]])\n",
    "    Xnew3 = numpy.array([X[k+2]])\n",
    "    Xnew4 = numpy.array([X[k+3]])\n",
    "    Xnew5 = numpy.array([X[k+4]])\n",
    "    ynew1 = model.predict_classes(Xnew1)\n",
    "    A.append(ynew1[0])\n",
    "    ynew2 = model.predict_classes(Xnew2)\n",
    "    A.append(ynew2[0])\n",
    "    ynew3 = model.predict_classes(Xnew3)\n",
    "    A.append(ynew3[0])\n",
    "    ynew4 = model.predict_classes(Xnew4)\n",
    "    A.append(ynew4[0])\n",
    "    ynew5 = model.predict_classes(Xnew5)\n",
    "    A.append(ynew5[0])\n",
    "    #print(\"Prediction : %s %s %s %s %s\" % (ynew1[0],ynew2[0] ,ynew3[0] ,ynew4[0] ,ynew5[0]))\n",
    "\n",
    "    counter = 0\n",
    "    num = A[0] \n",
    "\n",
    "    for i in A: \n",
    "        curr_frequency = A.count(i) \n",
    "        if(curr_frequency> counter): \n",
    "            counter = curr_frequency \n",
    "            num = i\n",
    "    print(\"Prediction for user %s is : %s\" % (h,num))\n",
    "    ans[num]+= 1\n",
    "    h = h + 1\n",
    "    k = k + 5"
   ]
  },
  {
   "cell_type": "code",
   "execution_count": 13,
   "metadata": {},
   "outputs": [
    {
     "data": {
      "image/png": "[encoded data removed]",
      "text/plain": [
       "<Figure size 432x288 with 1 Axes>"
      ]
     },
     "metadata": {
      "needs_background": "light"
     },
     "output_type": "display_data"
    }
   ],
   "source": [
    "import matplotlib.pyplot as plt\n",
    "clas = ['Relax','Stressed','Partially Stressed','Happy']\n",
    "plt.bar(clas, ans)\n",
    "plt.title('histogram')\n",
    "plt.xlabel('class')\n",
    "plt.ylabel('test result count')\n",
    "plt.show('histogram.png')"
   ]
  },
  {
   "cell_type": "code",
   "execution_count": 11,
   "metadata": {},
   "outputs": [
    {
     "data": {
      "image/png": "[encoded data removed]",
      "text/plain": [
       "<Figure size 432x288 with 1 Axes>"
      ]
     },
     "metadata": {},
     "output_type": "display_data"
    }
   ],
   "source": [
    "labels =  ['Relax','Stressed','Partially Stressed','Happy']\n",
    "colors = ['red','lightsalmon', 'tomato', 'lightcoral']\n",
    "# Plot\n",
    "plt.pie(ans, labels=labels, colors=colors,\n",
    "autopct='%1.1f%%', shadow=True, startangle=140)\n",
    "plt.axis('equal')\n",
    "plt.show('a1.png')"
   ]
  },
  {
   "cell_type": "code",
   "execution_count": null,
   "metadata": {},
   "outputs": [],
   "source": []
  }
 ],
 "metadata": {
  "kernelspec": {
   "display_name": "Python 3",
   "language": "python",
   "name": "python3"
  },
  "language_info": {
   "codemirror_mode": {
    "name": "ipython",
    "version": 3
   },
   "file_extension": ".py",
   "mimetype": "text/x-python",
   "name": "python",
   "nbconvert_exporter": "python",
   "pygments_lexer": "ipython3",
   "version": "3.5.2"
  }
 },
 "nbformat": 4,
 "nbformat_minor": 2
}
